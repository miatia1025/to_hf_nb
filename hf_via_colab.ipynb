{
  "nbformat": 4,
  "nbformat_minor": 0,
  "metadata": {
    "colab": {
      "provenance": [],
      "collapsed_sections": [
        "lOBTBhrXjchu",
        "cZtl8zeNj70a"
      ]
    },
    "kernelspec": {
      "name": "python3",
      "display_name": "Python 3"
    },
    "language_info": {
      "name": "python"
    },
    "gpuClass": "standard"
  },
  "cells": [
    {
      "cell_type": "markdown",
      "source": [
        "# 爆破用"
      ],
      "metadata": {
        "id": "lOBTBhrXjchu"
      }
    },
    {
      "cell_type": "code",
      "source": [
        "# @markdown #💣削除用！注意！  \n",
        "# @markdown 例 : `/content/test`で`/content/test`を中身ごと削除  \n",
        "import shutil\n",
        "dir = \"/content/test\" # @param{type:\"string\"}\n",
        "shutil.rmtree(dir)"
      ],
      "metadata": {
        "id": "xei0B3YdN0zV"
      },
      "execution_count": null,
      "outputs": []
    },
    {
      "cell_type": "code",
      "source": [
        "%cd /content/"
      ],
      "metadata": {
        "id": "nH8ICufuRbJN"
      },
      "execution_count": null,
      "outputs": []
    },
    {
      "cell_type": "markdown",
      "source": [
        "# git clone -> ダウンロード -> push まで"
      ],
      "metadata": {
        "id": "UpZpgcHzjgvH"
      }
    },
    {
      "cell_type": "code",
      "source": [
        "# git lfs initializer\n",
        "# @markdown <hr>\n",
        "\n",
        "# @markdown ##installing requirements\n",
        "# @markdown <hr>\n",
        "\n",
        "# @markdown #🌱Initializer Area\n",
        "!curl -s https://packagecloud.io/install/repositories/github/git-lfs/script.deb.sh | sudo bash\n",
        "!sudo apt-get install git-lfs\n",
        "!git lfs install\n",
        "\n",
        "!pip install huggingface_hub"
      ],
      "metadata": {
        "id": "WaYbVn4QQcBv"
      },
      "execution_count": null,
      "outputs": []
    },
    {
      "cell_type": "code",
      "source": [
        "# @markdown <hr>\n",
        "\n",
        "# @markdown ##setting variables and cloning repository\n",
        "# @markdown <hr>\n",
        "\n",
        "# @markdown #🤗 Init Area\n",
        "\n",
        "## Token\n",
        "hf_token = \"hf_XXXXXXXXXXXXXXXXXXXXXXXXXXXXXX\" # @param{type:\"string\"}\n",
        "\n",
        "## Cloning Repo \n",
        "hf_repo_to_push = \"https://huggingface.co/otinpo/test\" # @param{type:\"string\"}\n",
        "hf_index = hf_repo_to_push.find(\"huggingface.co\")\n",
        "hf_repo_to_push = hf_repo_to_push[:hf_index] + \":\" + hf_token + \"@\" + hf_repo_to_push[hf_index:]\n",
        "\n",
        "!git clone $hf_repo_to_push\n",
        "\n",
        "## Set LFS and Dive into Repo\n",
        "hf_dir = hf_repo_to_push[hf_repo_to_push.rfind('/') + 1:]\n",
        "\n",
        "!huggingface-cli lfs-enable-largefiles $hf_dir\n",
        "%cd $hf_dir\n"
      ],
      "metadata": {
        "id": "eFY3aEWD_D81"
      },
      "execution_count": null,
      "outputs": []
    },
    {
      "cell_type": "code",
      "source": [
        "# @markdown <hr>\n",
        "\n",
        "# @markdown ##downloading area (civitai, 🤗, gigafile)\n",
        "# @markdown <hr>\n",
        "\n",
        "# @markdown #⬇️Downloading Area\n",
        "\n",
        "## Variables\n",
        "MODEL_URL = \"https://63.gigafile.nu/0226-c8577cbe188ec89c008eb2932de99d6cc\" # @param {type:\"string\"}\n",
        "SAVE_AS_CHECK = False # @param {type:\"boolean\"}\n",
        "SAVE_AS_FILENAME = \"houdini.hipnc\" # @param {type:\"string\"}\n",
        "\n",
        "## Download with Gigafile Check\n",
        "GIGA_CHECK = \"gigafile.nu\" in MODEL_URL\n",
        "if GIGA_CHECK:\n",
        "  BUTTON_URL = MODEL_URL.replace(\"gigafile.nu/\", \"gigafile.nu/download.php?file=\")\n",
        "\n",
        "  !wget --keep-session-cookies --save-cookies=cookies.txt $MODEL_URL\n",
        "\n",
        "  if SAVE_AS_CHECK:\n",
        "    !wget --load-cookies cookies.txt -O $SAVE_AS_FILENAME $BUTTON_URL\n",
        "  else: \n",
        "    !wget --load-cookies cookies.txt $BUTTON_URL --content-disposition\n",
        "else:\n",
        "  if SAVE_AS_CHECK:\n",
        "    !wget -O $SAVE_AS_FILENAME $MODEL_URL\n",
        "  else:\n",
        "    !wget $MODEL_URL --content-disposition"
      ],
      "metadata": {
        "id": "YaoEEGSmA22k"
      },
      "execution_count": null,
      "outputs": []
    },
    {
      "cell_type": "code",
      "source": [
        "# @markdown <hr>\n",
        "\n",
        "# @markdown ##git add, git commit, git push\n",
        "# @markdown <hr>\n",
        "\n",
        "# @markdown #🌿Gitting Area\n",
        "\n",
        "## staging\n",
        "!git add .\n",
        "\n",
        "!git status\n",
        "!git lfs status\n",
        "\n",
        "## commit and push\n",
        "COMMIT_MESSAGE = \"kjgffh afiu yagb\" # @param {type:\"string\"}\n",
        "USER_NAME = \"tinge\" # @param {type:\"string\"}\n",
        "USER_EMAIL = \"tinge\" # @param {type:\"string\"}\n",
        "\n",
        "!git config --global user.email $USER_EMAIL\n",
        "!git config --global user.name $USER_NAME\n",
        "!git commit -m \"$COMMIT_MESSAGE\"\n",
        "!git push\n",
        "\n",
        "#%cd /content/"
      ],
      "metadata": {
        "id": "PsLnd_fJXRL4"
      },
      "execution_count": null,
      "outputs": []
    },
    {
      "cell_type": "markdown",
      "source": [
        "# 以下工事中"
      ],
      "metadata": {
        "id": "cZtl8zeNj70a"
      }
    },
    {
      "cell_type": "code",
      "source": [
        "# @markdown <hr>\n",
        "\n",
        "# @markdown ##create a repo as model, dataset or space\n",
        "# @markdown <hr>\n",
        "\n",
        "# @markdown #🤗 Creating Repo Area\n",
        "repo_name = \"miatia/public_test\" # @param{type:\"string\"}\n",
        "token = \"\" # @param{type:\"string\"}\n",
        "if token:\n",
        "  hf_token = token\n",
        "\n",
        "repo_type = \"unko\" # @param[\"\", \"dataset\", \"space\"] {allow-input:true}\n",
        "if repo_type not in [\"dataset\", \"space\"]:\n",
        "  repo_type = None\n",
        "\n",
        "  private = False # @param{type:\"boolean\"}\n",
        "\n",
        "from huggingface_hub import create_repo\n",
        "\n",
        "create_repo(repo_id=repo_name, token=hf_token, repo_type=repo_type, private=private)"
      ],
      "metadata": {
        "id": "_2yLswpvSV-n"
      },
      "execution_count": null,
      "outputs": []
    }
  ]
}